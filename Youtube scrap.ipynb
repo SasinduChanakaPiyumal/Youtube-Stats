{
 "cells": [
  {
   "cell_type": "code",
   "execution_count": null,
   "id": "45ca0a3e-eea9-41b2-bc0d-cf519c7938fb",
   "metadata": {},
   "outputs": [],
   "source": [
    "from googleapiclient.discovery import build\n",
    "import pandas as pd\n",
    "\n",
    "# Read the YouTube video IDs from CSV file\n",
    "df = pd.read_csv('Link for YT.csv')\n",
    "\n",
    "# Replace 'YOUR_API_KEY' with your actual API key\n",
    "API_KEY = 'Not Visible'\n",
    "\n",
    "# Create a YouTube Data API client\n",
    "youtube = build('youtube', 'v3', developerKey=API_KEY)\n",
    "\n",
    "def get_video_statistics(video_id):\n",
    "\n",
    "    request = youtube.videos().list(\n",
    "        part=\"statistics\",\n",
    "        id=video_id\n",
    "    )\n",
    "    response = request.execute()\n",
    "    \n",
    "    if response['items']:\n",
    "        return response['items'][0]['statistics']\n",
    "    else:\n",
    "        return None\n",
    "\n",
    "# Initialize an empty list to store statistics for all videos\n",
    "all_statistics = []\n",
    "\n",
    "# Retrieve statistics for each video and store them in the list\n",
    "for video_id in df['Content']:\n",
    "    statistics = get_video_statistics(video_id)\n",
    "    if statistics:\n",
    "        statistics['Video ID'] = video_id \n",
    "        all_statistics.append(statistics)\n",
    "    else:\n",
    "        print(f\"Video with ID {video_id} not found or statistics unavailable.\")\n",
    "\n",
    "# Convert the list of dictionaries to a DataFrame\n",
    "if all_statistics:\n",
    "    combined_df = pd.DataFrame(all_statistics)\n",
    "    combined_df.to_excel('youtube_statistics1.xlsx', index=False)\n",
    "    print(\"Statistics saved to 'youtube_statistics.xlsx' file.\")\n",
    "else:\n",
    "    print(\"No statistics available to save.\")"
   ]
  }
 ],
 "metadata": {
  "kernelspec": {
   "display_name": "Python 3 (ipykernel)",
   "language": "python",
   "name": "python3"
  },
  "language_info": {
   "codemirror_mode": {
    "name": "ipython",
    "version": 3
   },
   "file_extension": ".py",
   "mimetype": "text/x-python",
   "name": "python",
   "nbconvert_exporter": "python",
   "pygments_lexer": "ipython3",
   "version": "3.12.2"
  }
 },
 "nbformat": 4,
 "nbformat_minor": 5
}
